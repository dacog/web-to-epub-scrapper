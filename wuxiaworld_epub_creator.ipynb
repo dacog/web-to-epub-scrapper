{
 "cells": [
  {
   "cell_type": "markdown",
   "metadata": {},
   "source": [
    "# epub Creator - wuxiaworld.co\n",
    "\n",
    "This notebook creates an epub file from a webnovel in https://www.wuxiaworld.co"
   ]
  },
  {
   "cell_type": "code",
   "execution_count": null,
   "metadata": {},
   "outputs": [],
   "source": [
    "!pip install ebooklib requests-html pillow bs4 "
   ]
  },
  {
   "cell_type": "code",
   "execution_count": 77,
   "metadata": {},
   "outputs": [],
   "source": [
    "import bs4\n",
    "from ebooklib import epub\n",
    "from requests_html import HTMLSession\n",
    "\n",
    "from PIL import Image\n",
    "import io\n",
    "\n",
    "import sys\n",
    "\n",
    "import requests "
   ]
  },
  {
   "cell_type": "markdown",
   "metadata": {},
   "source": [
    "# Define the web-novel you want (Variables)"
   ]
  },
  {
   "cell_type": "code",
   "execution_count": 79,
   "metadata": {},
   "outputs": [],
   "source": [
    "book_title = 'King of Gods'\n",
    "cover_image_url = ('https://vignette.wikia.nocookie.net/king-of-god/images/9/95/King-of-gods.jpg')\n",
    "url = 'https://www.wuxiaworld.co/King-of-Gods/'\n",
    "author = 'Fast Food Resturant ( 快餐店)'"
   ]
  },
  {
   "cell_type": "markdown",
   "metadata": {},
   "source": [
    "# Download Chapters and create epub file"
   ]
  },
  {
   "cell_type": "code",
   "execution_count": 85,
   "metadata": {},
   "outputs": [],
   "source": [
    "book = epub.EpubBook()\n",
    "\n",
    "# set metadata\n",
    "book.set_identifier('')\n",
    "book.set_title(book_title)\n",
    "book.set_language('en')\n",
    "#r_image = requests.get(cover_image_url)\n",
    "#!wget https://vignette.wikia.nocookie.net/king-of-god/images/9/95/King-of-gods.jpg\n",
    "\n",
    "with open('cover.jpg', 'wb') as handle:\n",
    "        response = requests.get(cover_image_url, stream=True)\n",
    "\n",
    "        if not response.ok:\n",
    "            print(response)\n",
    "\n",
    "        for block in response.iter_content(1024):\n",
    "            if not block:\n",
    "                break\n",
    "\n",
    "            handle.write(block)\n",
    "\n",
    "\n",
    "# add cover image\n",
    "book.set_cover(\"image.jpg\", open('cover.jpg', 'rb').read())\n",
    "\n",
    "book.add_author(author)"
   ]
  },
  {
   "cell_type": "code",
   "execution_count": 86,
   "metadata": {},
   "outputs": [
    {
     "name": "stdout",
     "output_type": "stream",
     "text": [
      "Chapter 1246 Conference"
     ]
    }
   ],
   "source": [
    "toc_list = []\n",
    "output_stream = sys.stdout\n",
    "\n",
    "soup = bs4.BeautifulSoup(requests.get(url).content,features='lxml')\n",
    "for link in soup.findAll('a'):\n",
    "    if 'style' in str(link):\n",
    "        chapter = link.get(\"href\")\n",
    "        r = session.get(url+str(chapter))\n",
    "        chapter_title = r.html.find('h1')\n",
    "        chapter = r.html.find('div#content')\n",
    "        #print(chapter_title[0].text)\n",
    "        #print(chapter[0].text)\n",
    "        #print('---------------------------------')\n",
    "        epub_chapter = epub.EpubHtml(title=u'{}'.format(chapter_title[0].text), file_name='{}.xhtml'.format(chapter_title[0].text.replace(' ','_')), lang='hr')\n",
    "        epub_chapter.content = chapter[0].html\n",
    "        book.add_item(epub_chapter)\n",
    "        toc_list.append(epub_chapter)\n",
    "        \n",
    "        sys.stdout.write(\"\\rChapter %s\" % chapter_title[0].text)\n",
    "        sys.stdout.flush()\n",
    "        "
   ]
  },
  {
   "cell_type": "code",
   "execution_count": 87,
   "metadata": {},
   "outputs": [],
   "source": [
    "# define Table Of Contents\n",
    "book.toc = tuple(toc_list)\n",
    "\n",
    "# add default NCX and Nav file\n",
    "book.add_item(epub.EpubNcx())\n",
    "book.add_item(epub.EpubNav())\n",
    "\n",
    "# define CSS style\n",
    "style = 'BODY {color: white;}'\n",
    "nav_css = epub.EpubItem(uid=\"style_nav\", file_name=\"style/nav.css\", media_type=\"text/css\", content=style)\n",
    "\n",
    "# add CSS file\n",
    "book.add_item(nav_css)\n",
    "\n",
    "# basic spine\n",
    "book.spine = ['nav']+toc_list\n",
    "\n",
    "# write to the file\n",
    "epub.write_epub('{}-wuxiaworld.epub'.format(book_title.replace(' ', '_')), book, {})"
   ]
  },
  {
   "cell_type": "code",
   "execution_count": null,
   "metadata": {},
   "outputs": [],
   "source": []
  }
 ],
 "metadata": {
  "kernelspec": {
   "display_name": "Python 3",
   "language": "python",
   "name": "python3"
  },
  "language_info": {
   "codemirror_mode": {
    "name": "ipython",
    "version": 3
   },
   "file_extension": ".py",
   "mimetype": "text/x-python",
   "name": "python",
   "nbconvert_exporter": "python",
   "pygments_lexer": "ipython3",
   "version": "3.6.8"
  }
 },
 "nbformat": 4,
 "nbformat_minor": 2
}
